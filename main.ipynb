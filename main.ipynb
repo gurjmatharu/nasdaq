{
 "cells": [
  {
   "cell_type": "code",
   "execution_count": 1,
   "metadata": {},
   "outputs": [
    {
     "name": "stdout",
     "output_type": "stream",
     "text": [
      "              Open    High     Low     Last    Close  Total Trade Quantity  \\\n",
      "Date                                                                         \n",
      "2009-09-30  1096.0  1156.7  1090.0  1135.00  1141.20            19748012.0   \n",
      "2009-10-01  1102.0  1173.7  1102.0  1167.00  1166.35             3074254.0   \n",
      "2009-10-05  1152.0  1165.9  1136.6  1143.00  1140.55              919832.0   \n",
      "2009-10-06  1149.8  1157.2  1132.1  1143.30  1144.90              627957.0   \n",
      "2009-10-07  1153.8  1160.7  1140.0  1141.45  1141.60              698216.0   \n",
      "\n",
      "            Turnover (Lacs)  \n",
      "Date                         \n",
      "2009-09-30        223877.07  \n",
      "2009-10-01         35463.78  \n",
      "2009-10-05         10581.13  \n",
      "2009-10-06          7185.90  \n",
      "2009-10-07          8032.98  \n"
     ]
    }
   ],
   "source": [
    "import nasdaqdatalink\n",
    "\n",
    "data = nasdaqdatalink.get(\"NSE/OIL\")\n",
    "print(data.head())\n"
   ]
  },
  {
   "cell_type": "code",
   "execution_count": null,
   "metadata": {},
   "outputs": [],
   "source": []
  }
 ],
 "metadata": {
  "kernelspec": {
   "display_name": "Python 3.9.12 ('venv': venv)",
   "language": "python",
   "name": "python3"
  },
  "language_info": {
   "codemirror_mode": {
    "name": "ipython",
    "version": 3
   },
   "file_extension": ".py",
   "mimetype": "text/x-python",
   "name": "python",
   "nbconvert_exporter": "python",
   "pygments_lexer": "ipython3",
   "version": "3.9.12"
  },
  "orig_nbformat": 4,
  "vscode": {
   "interpreter": {
    "hash": "964adb66ec4beca21873c70f84a006c637329b98ecc361a0806a42bea8572dad"
   }
  }
 },
 "nbformat": 4,
 "nbformat_minor": 2
}
